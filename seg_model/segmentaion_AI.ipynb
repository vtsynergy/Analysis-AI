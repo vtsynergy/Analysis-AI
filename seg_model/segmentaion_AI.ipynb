{
 "cells": [
  {
   "cell_type": "code",
   "execution_count": 1,
   "metadata": {
    "pycharm": {
     "metadata": false,
     "name": "#%%\n"
    }
   },
   "outputs": [],
   "source": [
    "import os\n",
    "import glob\n",
    "import json\n",
    "\n",
    "from multiprocessing import Pool\n",
    "from shutil import copy2,move"
   ]
  },
  {
   "cell_type": "code",
   "execution_count": 2,
   "metadata": {},
   "outputs": [
    {
     "name": "stdout",
     "output_type": "stream",
     "text": [
      "setting MMAR_ROOT= /claraDevDay/seg_model\n"
     ]
    }
   ],
   "source": [
    "nii_root = '/claraDevDay/COVID'\n",
    "MMAR_ROOT=\"/claraDevDay/seg_model\"\n",
    "print (\"setting MMAR_ROOT=\",MMAR_ROOT)"
   ]
  },
  {
   "cell_type": "code",
   "execution_count": 3,
   "metadata": {},
   "outputs": [
    {
     "name": "stdout",
     "output_type": "stream",
     "text": [
      "Clean old inputs done.\n",
      "Clean old outputs done.\n",
      "Clean old output folders done.\n",
      "Add new inputs done.\n"
     ]
    }
   ],
   "source": [
    "# delete old images\n",
    "olds = glob.glob(MMAR_ROOT+'/dataset_root/valid/*')\n",
    "for i in olds:\n",
    "    os.remove(i)\n",
    "#     !rm $i\n",
    "print('Clean old inputs done.')\n",
    "\n",
    "olds = glob.glob(MMAR_ROOT+'/eval/*/*')\n",
    "for i in olds:\n",
    "    os.remove(i)\n",
    "#     !rm $i\n",
    "print('Clean old outputs done.')\n",
    "\n",
    "olds = glob.glob(MMAR_ROOT+'/eval/*')\n",
    "for i in olds:\n",
    "    os.rmdir(i)\n",
    "#     !rmdir $i\n",
    "print('Clean old output folders done.')\n",
    "\n",
    "# copy new nii images in dataset    \n",
    "news = glob.glob(nii_root+'/Images/HU_original_nii/*.nii.gz')\n",
    "\n",
    "\n",
    "dataset_path = MMAR_ROOT+'/dataset_root/valid/'\n",
    "for i in news:\n",
    "    copy2(i, dataset_path)\n",
    "#     !cp $i $dataset_path \n",
    "print('Add new inputs done.')\n"
   ]
  },
  {
   "cell_type": "code",
   "execution_count": 3,
   "metadata": {},
   "outputs": [],
   "source": [
    "# generate json file\n",
    "zip_list = glob.glob(MMAR_ROOT+'/dataset_root/valid/*.nii.gz')\n",
    "zip_list.sort()\n",
    "\n",
    "data = {}\n",
    "data['validation'] = []\n",
    "\n",
    "for i in zip_list:\n",
    "    name_list = i.split('/')\n",
    "    name = name_list[len(name_list)-1]\n",
    "    data['validation'].append({\n",
    "        'image': 'valid/'+ name,\n",
    "        'label': 'valid/'+ name\n",
    "    })\n",
    "seg_json_path = MMAR_ROOT + '/dataset_root/'\n",
    "with open(seg_json_path + 'datalist.json', 'w') as outfile:\n",
    "    json.dump(data, outfile)"
   ]
  },
  {
   "cell_type": "code",
   "execution_count": 4,
   "metadata": {},
   "outputs": [],
   "source": [
    "!chmod 777 $MMAR_ROOT/commands/*"
   ]
  },
  {
   "cell_type": "code",
   "execution_count": 6,
   "metadata": {
    "pycharm": {
     "metadata": false,
     "name": "#%%\n"
    }
   },
   "outputs": [
    {
     "name": "stdout",
     "output_type": "stream",
     "text": [
      "MMAR_ROOT set to /claraDevDay/seg_model/commands/..\n",
      "/usr/bin/python3: Error while finding module specification for 'nvmidl.apps.evaluate' (ModuleNotFoundError: No module named 'nvmidl')\n"
     ]
    }
   ],
   "source": [
    "! $MMAR_ROOT/commands/infer.sh"
   ]
  },
  {
   "cell_type": "markdown",
   "metadata": {
    "pycharm": {
     "metadata": false
    }
   },
   "source": [
    "Now lets see results in the folder"
   ]
  },
  {
   "cell_type": "code",
   "execution_count": null,
   "metadata": {},
   "outputs": [],
   "source": []
  }
 ],
 "metadata": {
  "kernelspec": {
   "display_name": "Python 3",
   "language": "python",
   "name": "python3"
  },
  "language_info": {
   "codemirror_mode": {
    "name": "ipython",
    "version": 3
   },
   "file_extension": ".py",
   "mimetype": "text/x-python",
   "name": "python",
   "nbconvert_exporter": "python",
   "pygments_lexer": "ipython3",
   "version": "3.6.9"
  },
  "stem_cell": {
   "cell_type": "raw",
   "metadata": {
    "pycharm": {
     "metadata": false
    }
   },
   "source": "<!--- SPDX-License-Identifier: Apache-2.0 -->\n"
  }
 },
 "nbformat": 4,
 "nbformat_minor": 4
}
